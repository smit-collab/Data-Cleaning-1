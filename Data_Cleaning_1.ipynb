{
  "nbformat": 4,
  "nbformat_minor": 0,
  "metadata": {
    "colab": {
      "name": "Data Cleaning -1.ipynb",
      "provenance": [],
      "collapsed_sections": []
    },
    "kernelspec": {
      "name": "python3",
      "display_name": "Python 3"
    }
  },
  "cells": [
    {
      "cell_type": "code",
      "metadata": {
        "id": "zcX5SSj40QIw",
        "colab_type": "code",
        "colab": {}
      },
      "source": [
        "\"\"\"Performing Data Cleaning\"\"\""
      ],
      "execution_count": 0,
      "outputs": []
    },
    {
      "cell_type": "code",
      "metadata": {
        "id": "JgdgiDCDrgaL",
        "colab_type": "code",
        "colab": {}
      },
      "source": [
        "# dependencies\n",
        "import pandas as pd\n",
        "import numpy as np\n"
      ],
      "execution_count": 0,
      "outputs": []
    },
    {
      "cell_type": "code",
      "metadata": {
        "id": "0HGIZoPfr-T2",
        "colab_type": "code",
        "colab": {
          "base_uri": "https://localhost:8080/",
          "height": 274
        },
        "outputId": "fb7996f9-c20e-4a88-c3dd-451af08e8038"
      },
      "source": [
        "\n",
        "# in the first column there is one blank entry and one NA written.\n",
        "# reading the data\n",
        "df = pd.read_csv(\"property data.csv\")\n",
        "\n",
        "# printing the data\n",
        "print(df['ST_NUM'])"
      ],
      "execution_count": 2,
      "outputs": [
        {
          "output_type": "stream",
          "text": [
            "0     104.0\n",
            "1     197.0\n",
            "2       NaN\n",
            "3     201.0\n",
            "4     203.0\n",
            "5     207.0\n",
            "6       NaN\n",
            "7     213.0\n",
            "8     215.0\n",
            "9     218.0\n",
            "10      NaN\n",
            "11    205.0\n",
            "12    220.0\n",
            "Name: ST_NUM, dtype: float64\n"
          ],
          "name": "stdout"
        }
      ]
    },
    {
      "cell_type": "code",
      "metadata": {
        "id": "f025ZJaKsSWf",
        "colab_type": "code",
        "colab": {
          "base_uri": "https://localhost:8080/",
          "height": 274
        },
        "outputId": "d50f5234-333d-48f4-c720-10fefa8b224f"
      },
      "source": [
        "# verifying that the panda recognize the missing values\n",
        "print(df['ST_NUM'].isnull())\n",
        "# only two true values are seen meaning pandas has recognized the two missing values."
      ],
      "execution_count": 3,
      "outputs": [
        {
          "output_type": "stream",
          "text": [
            "0     False\n",
            "1     False\n",
            "2      True\n",
            "3     False\n",
            "4     False\n",
            "5     False\n",
            "6      True\n",
            "7     False\n",
            "8     False\n",
            "9     False\n",
            "10     True\n",
            "11    False\n",
            "12    False\n",
            "Name: ST_NUM, dtype: bool\n"
          ],
          "name": "stdout"
        }
      ]
    },
    {
      "cell_type": "code",
      "metadata": {
        "id": "QwiwciG8ssdu",
        "colab_type": "code",
        "colab": {
          "base_uri": "https://localhost:8080/",
          "height": 531
        },
        "outputId": "5591f06a-8c7a-4763-d3e1-0a3afd3c4ff9"
      },
      "source": [
        "# observing the third column\n",
        "print(df['NUM_BEDROOMS'])\n",
        "print(df['NUM_BEDROOMS'].isnull())"
      ],
      "execution_count": 4,
      "outputs": [
        {
          "output_type": "stream",
          "text": [
            "0       3\n",
            "1       3\n",
            "2     NaN\n",
            "3       1\n",
            "4       3\n",
            "5     NaN\n",
            "6       2\n",
            "7      --\n",
            "8      na\n",
            "9       3\n",
            "10      4\n",
            "11    NaN\n",
            "12      5\n",
            "Name: NUM_BEDROOMS, dtype: object\n",
            "0     False\n",
            "1     False\n",
            "2      True\n",
            "3     False\n",
            "4     False\n",
            "5      True\n",
            "6     False\n",
            "7     False\n",
            "8     False\n",
            "9     False\n",
            "10    False\n",
            "11     True\n",
            "12    False\n",
            "Name: NUM_BEDROOMS, dtype: bool\n"
          ],
          "name": "stdout"
        }
      ]
    },
    {
      "cell_type": "code",
      "metadata": {
        "id": "_6dbQa_OtQcp",
        "colab_type": "code",
        "colab": {
          "base_uri": "https://localhost:8080/",
          "height": 531
        },
        "outputId": "8f7c8ec3-84b5-475d-d3e0-eaad65d2a3a3"
      },
      "source": [
        "# we can see that only capital NAN are considered as missing values,\n",
        "# so create a manual list of missing values and then run the code.\n",
        "missing_values = [\"n/a\",\"na\",\"--\"]\n",
        "df = pd.read_csv(\"property data.csv\",na_values=missing_values)\n",
        "\n",
        "print(df['NUM_BEDROOMS'])\n",
        "print(df['NUM_BEDROOMS'].isnull())"
      ],
      "execution_count": 5,
      "outputs": [
        {
          "output_type": "stream",
          "text": [
            "0     3.0\n",
            "1     3.0\n",
            "2     NaN\n",
            "3     1.0\n",
            "4     3.0\n",
            "5     NaN\n",
            "6     2.0\n",
            "7     NaN\n",
            "8     NaN\n",
            "9     3.0\n",
            "10    4.0\n",
            "11    NaN\n",
            "12    5.0\n",
            "Name: NUM_BEDROOMS, dtype: float64\n",
            "0     False\n",
            "1     False\n",
            "2      True\n",
            "3     False\n",
            "4     False\n",
            "5      True\n",
            "6     False\n",
            "7      True\n",
            "8      True\n",
            "9     False\n",
            "10    False\n",
            "11     True\n",
            "12    False\n",
            "Name: NUM_BEDROOMS, dtype: bool\n"
          ],
          "name": "stdout"
        }
      ]
    },
    {
      "cell_type": "code",
      "metadata": {
        "id": "7AiFsN-tt7Ay",
        "colab_type": "code",
        "colab": {
          "base_uri": "https://localhost:8080/",
          "height": 384
        },
        "outputId": "5dccffb6-855a-461d-e3d1-ae834329e112"
      },
      "source": [
        "# we can see from the above output that now all missing values are recognized.\n",
        "# Now if we look at the 4th column.we can see that number 12 data is incorrect type.As the result should be Y or N\n",
        "\n",
        "# running pandas on the column to see if it recongnizes the missing values.\n",
        "print(df['OWN_OCCUPIED'])\n",
        "print(df['OWN_OCCUPIED'].isnull())\n",
        "\n",
        "# we can see that missing value is detected but the  12 is not detected."
      ],
      "execution_count": 9,
      "outputs": [
        {
          "output_type": "stream",
          "text": [
            "0      Y\n",
            "1      N\n",
            "2      N\n",
            "3     12\n",
            "4      Y\n",
            "5      Y\n",
            "6    NaN\n",
            "7      Y\n",
            "8      Y\n",
            "Name: OWN_OCCUPIED, dtype: object\n",
            "0    False\n",
            "1    False\n",
            "2    False\n",
            "3    False\n",
            "4    False\n",
            "5    False\n",
            "6     True\n",
            "7    False\n",
            "8    False\n",
            "Name: OWN_OCCUPIED, dtype: bool\n"
          ],
          "name": "stdout"
        }
      ]
    },
    {
      "cell_type": "code",
      "metadata": {
        "id": "1amXVllEvAYg",
        "colab_type": "code",
        "colab": {
          "base_uri": "https://localhost:8080/",
          "height": 531
        },
        "outputId": "daf27f7b-200f-4320-d8e2-35b777d195fb"
      },
      "source": [
        "consta  = 0\n",
        "for row in df['OWN_OCCUPIED']:\n",
        "  try:\n",
        "    int(row)\n",
        "    df.loc[consta,'OWN_OCCUPIED']=np.nan\n",
        "  except ValueError:\n",
        "    pass\n",
        "  consta+=1    \n",
        "\n",
        "print(df['OWN_OCCUPIED'])\n",
        "print(df['OWN_OCCUPIED'].isnull())\n",
        "\n",
        "# now 12 is also recognized as missing value"
      ],
      "execution_count": 6,
      "outputs": [
        {
          "output_type": "stream",
          "text": [
            "0       Y\n",
            "1       N\n",
            "2       N\n",
            "3     NaN\n",
            "4       Y\n",
            "5       Y\n",
            "6     NaN\n",
            "7       Y\n",
            "8       Y\n",
            "9       N\n",
            "10    NaN\n",
            "11      Y\n",
            "12      N\n",
            "Name: OWN_OCCUPIED, dtype: object\n",
            "0     False\n",
            "1     False\n",
            "2     False\n",
            "3      True\n",
            "4     False\n",
            "5     False\n",
            "6      True\n",
            "7     False\n",
            "8     False\n",
            "9     False\n",
            "10     True\n",
            "11    False\n",
            "12    False\n",
            "Name: OWN_OCCUPIED, dtype: bool\n"
          ],
          "name": "stdout"
        }
      ]
    },
    {
      "cell_type": "code",
      "metadata": {
        "id": "19NT9Go3O814",
        "colab_type": "code",
        "colab": {
          "base_uri": "https://localhost:8080/",
          "height": 146
        },
        "outputId": "397b2e94-b3aa-4552-f9da-2269e46970eb"
      },
      "source": [
        "# to see all the missing values\n",
        "print(df.isnull().sum())\n",
        "\n",
        "# to check if any missing value present\n",
        "print(\"Missing values : \" , df.isnull().values.any())\n",
        "\n",
        "# total number of missing values\n",
        "print(\"Total number of missing values : \" , df.isnull().sum().sum())\n"
      ],
      "execution_count": 9,
      "outputs": [
        {
          "output_type": "stream",
          "text": [
            "ST_NUM          3\n",
            "ST_NAME         0\n",
            "OWN_OCCUPIED    3\n",
            "NUM_BEDROOMS    5\n",
            "dtype: int64\n",
            "Missing values :  True\n",
            "Total number of missing values :  11\n"
          ],
          "name": "stdout"
        }
      ]
    }
  ]
}